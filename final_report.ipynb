{
 "cells": [
  {
   "cell_type": "markdown",
   "id": "ec28ec34-417d-483e-ad4a-143ce46fb6e8",
   "metadata": {},
   "source": [
    "## Title:\n",
    "> ### Why customers tends to Churn"
   ]
  },
  {
   "cell_type": "markdown",
   "id": "11d0f745-30f1-4414-9c33-b9a6d096cb75",
   "metadata": {},
   "source": [
    "## Goal:\n",
    "\n",
    "> Discover supporting evidence the reason behind why customer are leaving the telecommunication company\n",
    "\n",
    "> Create a model how accurate can it predict why customer are leaving the company"
   ]
  },
  {
   "cell_type": "markdown",
   "id": "ebb8fa49-bf37-43db-a8ec-12098696458e",
   "metadata": {},
   "source": [
    "## Imports"
   ]
  },
  {
   "cell_type": "code",
   "execution_count": 56,
   "id": "00b13fa4-d147-4160-ab8a-96e84738a0e7",
   "metadata": {
    "tags": []
   },
   "outputs": [],
   "source": [
    "import numpy as np\n",
    "import pandas as pd\n",
    "from scipy import stats\n",
    "from sklearn.model_selection import train_test_split\n",
    "from sklearn.tree import DecisionTreeClassifier, plot_tree\n",
    "from sklearn.metrics import confusion_matrix\n",
    "from sklearn.metrics import accuracy_score, classification_report\n",
    "from sklearn.tree import DecisionTreeClassifier, export_text, plot_tree\n",
    "from sklearn.ensemble import RandomForestClassifier\n",
    "from sklearn.linear_model import LogisticRegression\n",
    "\n",
    "import matplotlib.pyplot as plt\n",
    "import seaborn as sns\n",
    "import acquire\n",
    "import prepare\n",
    "import preprocess\n",
    "import functions_used\n",
    "import os"
   ]
  },
  {
   "cell_type": "markdown",
   "id": "554dec67-c1c7-4d18-9aa3-bc46af76eb9c",
   "metadata": {
    "tags": []
   },
   "source": [
    "# Acquire\n",
    "\n",
    "> Using the Telco dataset\n",
    ">> The information was acquired from Codeup database using mySQL, the information was acquired in last week\n",
    "\n",
    ">> The information \n",
    "\n",
    ">> After acquiring the Telco datas set, it was saved to a csv file \n",
    "\n",
    ">> Created a function read csv file if exist if not download from mySQL \n",
    "\n",
    ">> The file have 7043 rows represents entries, and 23 columns represents customer information and services  \n",
    "\n",
    ">> The data represents information about a customer information in a telecommunication company"
   ]
  },
  {
   "cell_type": "code",
   "execution_count": 44,
   "id": "4206cbb9-3ab3-4d4a-9ed2-7b0e62426109",
   "metadata": {
    "tags": []
   },
   "outputs": [
    {
     "name": "stdout",
     "output_type": "stream",
     "text": [
      "this file exists, reading from csv file\n",
      "<class 'pandas.core.frame.DataFrame'>\n",
      "RangeIndex: 7043 entries, 0 to 7042\n",
      "Data columns (total 19 columns):\n",
      " #   Column                 Non-Null Count  Dtype  \n",
      "---  ------                 --------------  -----  \n",
      " 0   gender                 7043 non-null   object \n",
      " 1   senior_citizen         7043 non-null   int64  \n",
      " 2   partner                7043 non-null   object \n",
      " 3   dependents             7043 non-null   object \n",
      " 4   tenure                 7043 non-null   int64  \n",
      " 5   phone_service          7043 non-null   object \n",
      " 6   multiple_lines         7043 non-null   object \n",
      " 7   online_security        7043 non-null   object \n",
      " 8   online_backup          7043 non-null   object \n",
      " 9   device_protection      7043 non-null   object \n",
      " 10  tech_support           7043 non-null   object \n",
      " 11  streaming_tv           7043 non-null   object \n",
      " 12  streaming_movies       7043 non-null   object \n",
      " 13  paperless_billing      7043 non-null   object \n",
      " 14  monthly_charges        7043 non-null   float64\n",
      " 15  churn                  7043 non-null   object \n",
      " 16  contract_type          7043 non-null   object \n",
      " 17  internet_service_type  7043 non-null   object \n",
      " 18  payment_type           7043 non-null   object \n",
      "dtypes: float64(1), int64(2), object(16)\n",
      "memory usage: 1.0+ MB\n"
     ]
    }
   ],
   "source": [
    "prepare.prep_telco(acquire.get_telco_db()).info()"
   ]
  },
  {
   "cell_type": "markdown",
   "id": "d6901dd3-713e-4b41-b2f1-c50569761b1b",
   "metadata": {},
   "source": [
    "## Prepare\n",
    "\n",
    "> Prepare Actions:\n",
    ">> * Used acquire.py file to acquire telco dataset and check if the dataset is already saved to a csv file\n",
    "\n",
    ">> * Used prepare.py file to remove columns: payment_type_id, internet_service_type_id, contract_type_id, customer_id, and total_charges, Also, replaced empty characters with 0.0\n",
    "\n",
    ">> * Used prepare.py file to split dataframe into 3 dataframe (train, validate, test)\n",
    "\n",
    ">> * Used preprocess.py file to encode variables list all object type columns and change dtype of non-numeric columns"
   ]
  },
  {
   "cell_type": "markdown",
   "id": "b182c98c-cc1e-4aeb-88aa-07dd7e47d2b2",
   "metadata": {},
   "source": [
    "> #### A brief look at the data"
   ]
  },
  {
   "cell_type": "code",
   "execution_count": 41,
   "id": "c9edba29-9299-4764-91e2-d08eedbb31fc",
   "metadata": {
    "tags": []
   },
   "outputs": [
    {
     "name": "stdout",
     "output_type": "stream",
     "text": [
      "this file exists, reading from csv file\n"
     ]
    },
    {
     "data": {
      "text/html": [
       "<div>\n",
       "<style scoped>\n",
       "    .dataframe tbody tr th:only-of-type {\n",
       "        vertical-align: middle;\n",
       "    }\n",
       "\n",
       "    .dataframe tbody tr th {\n",
       "        vertical-align: top;\n",
       "    }\n",
       "\n",
       "    .dataframe thead th {\n",
       "        text-align: right;\n",
       "    }\n",
       "</style>\n",
       "<table border=\"1\" class=\"dataframe\">\n",
       "  <thead>\n",
       "    <tr style=\"text-align: right;\">\n",
       "      <th></th>\n",
       "      <th>gender</th>\n",
       "      <th>senior_citizen</th>\n",
       "      <th>partner</th>\n",
       "      <th>dependents</th>\n",
       "      <th>tenure</th>\n",
       "      <th>phone_service</th>\n",
       "      <th>multiple_lines</th>\n",
       "      <th>online_security</th>\n",
       "      <th>online_backup</th>\n",
       "      <th>device_protection</th>\n",
       "      <th>tech_support</th>\n",
       "      <th>streaming_tv</th>\n",
       "      <th>streaming_movies</th>\n",
       "      <th>paperless_billing</th>\n",
       "      <th>monthly_charges</th>\n",
       "      <th>churn</th>\n",
       "      <th>contract_type</th>\n",
       "      <th>internet_service_type</th>\n",
       "      <th>payment_type</th>\n",
       "    </tr>\n",
       "  </thead>\n",
       "  <tbody>\n",
       "    <tr>\n",
       "      <th>0</th>\n",
       "      <td>Female</td>\n",
       "      <td>0</td>\n",
       "      <td>Yes</td>\n",
       "      <td>Yes</td>\n",
       "      <td>9</td>\n",
       "      <td>Yes</td>\n",
       "      <td>No</td>\n",
       "      <td>No</td>\n",
       "      <td>Yes</td>\n",
       "      <td>No</td>\n",
       "      <td>Yes</td>\n",
       "      <td>Yes</td>\n",
       "      <td>No</td>\n",
       "      <td>Yes</td>\n",
       "      <td>65.6</td>\n",
       "      <td>No</td>\n",
       "      <td>One year</td>\n",
       "      <td>DSL</td>\n",
       "      <td>Mailed check</td>\n",
       "    </tr>\n",
       "    <tr>\n",
       "      <th>1</th>\n",
       "      <td>Male</td>\n",
       "      <td>0</td>\n",
       "      <td>No</td>\n",
       "      <td>No</td>\n",
       "      <td>9</td>\n",
       "      <td>Yes</td>\n",
       "      <td>Yes</td>\n",
       "      <td>No</td>\n",
       "      <td>No</td>\n",
       "      <td>No</td>\n",
       "      <td>No</td>\n",
       "      <td>No</td>\n",
       "      <td>Yes</td>\n",
       "      <td>No</td>\n",
       "      <td>59.9</td>\n",
       "      <td>No</td>\n",
       "      <td>Month-to-month</td>\n",
       "      <td>DSL</td>\n",
       "      <td>Mailed check</td>\n",
       "    </tr>\n",
       "    <tr>\n",
       "      <th>2</th>\n",
       "      <td>Male</td>\n",
       "      <td>0</td>\n",
       "      <td>No</td>\n",
       "      <td>No</td>\n",
       "      <td>4</td>\n",
       "      <td>Yes</td>\n",
       "      <td>No</td>\n",
       "      <td>No</td>\n",
       "      <td>No</td>\n",
       "      <td>Yes</td>\n",
       "      <td>No</td>\n",
       "      <td>No</td>\n",
       "      <td>No</td>\n",
       "      <td>Yes</td>\n",
       "      <td>73.9</td>\n",
       "      <td>Yes</td>\n",
       "      <td>Month-to-month</td>\n",
       "      <td>Fiber optic</td>\n",
       "      <td>Electronic check</td>\n",
       "    </tr>\n",
       "  </tbody>\n",
       "</table>\n",
       "</div>"
      ],
      "text/plain": [
       "   gender  senior_citizen partner dependents  tenure phone_service  \\\n",
       "0  Female               0     Yes        Yes       9           Yes   \n",
       "1    Male               0      No         No       9           Yes   \n",
       "2    Male               0      No         No       4           Yes   \n",
       "\n",
       "  multiple_lines online_security online_backup device_protection tech_support  \\\n",
       "0             No              No           Yes                No          Yes   \n",
       "1            Yes              No            No                No           No   \n",
       "2             No              No            No               Yes           No   \n",
       "\n",
       "  streaming_tv streaming_movies paperless_billing  monthly_charges churn  \\\n",
       "0          Yes               No               Yes             65.6    No   \n",
       "1           No              Yes                No             59.9    No   \n",
       "2           No               No               Yes             73.9   Yes   \n",
       "\n",
       "    contract_type internet_service_type      payment_type  \n",
       "0        One year                   DSL      Mailed check  \n",
       "1  Month-to-month                   DSL      Mailed check  \n",
       "2  Month-to-month           Fiber optic  Electronic check  "
      ]
     },
     "execution_count": 41,
     "metadata": {},
     "output_type": "execute_result"
    }
   ],
   "source": [
    "prepare.prep_telco(acquire.get_telco_db()).head(3)"
   ]
  },
  {
   "cell_type": "code",
   "execution_count": 53,
   "id": "697dbd1f-bb29-4a5b-8295-a05575c42322",
   "metadata": {
    "tags": []
   },
   "outputs": [
    {
     "name": "stdout",
     "output_type": "stream",
     "text": [
      "this file exists, reading from csv file\n"
     ]
    },
    {
     "data": {
      "text/plain": [
       "churn\n",
       "No     5174\n",
       "Yes    1869\n",
       "Name: count, dtype: int64"
      ]
     },
     "execution_count": 53,
     "metadata": {},
     "output_type": "execute_result"
    }
   ],
   "source": [
    "# To see how many people that have or not have churned\n",
    "prepare.prep_telco(acquire.get_telco_db()).churn.value_counts()"
   ]
  },
  {
   "cell_type": "markdown",
   "id": "c7384592-31b8-45a9-81da-d4b6250d85cc",
   "metadata": {},
   "source": [
    "> #### A summary of the data"
   ]
  },
  {
   "cell_type": "code",
   "execution_count": 5,
   "id": "11b19465-dbaa-447c-9bde-e7ee4433a488",
   "metadata": {
    "tags": []
   },
   "outputs": [
    {
     "name": "stdout",
     "output_type": "stream",
     "text": [
      "this file exists, reading from csv file\n"
     ]
    },
    {
     "data": {
      "text/html": [
       "<div>\n",
       "<style scoped>\n",
       "    .dataframe tbody tr th:only-of-type {\n",
       "        vertical-align: middle;\n",
       "    }\n",
       "\n",
       "    .dataframe tbody tr th {\n",
       "        vertical-align: top;\n",
       "    }\n",
       "\n",
       "    .dataframe thead th {\n",
       "        text-align: right;\n",
       "    }\n",
       "</style>\n",
       "<table border=\"1\" class=\"dataframe\">\n",
       "  <thead>\n",
       "    <tr style=\"text-align: right;\">\n",
       "      <th></th>\n",
       "      <th>payment_type_id</th>\n",
       "      <th>internet_service_type_id</th>\n",
       "      <th>contract_type_id</th>\n",
       "      <th>senior_citizen</th>\n",
       "      <th>tenure</th>\n",
       "      <th>monthly_charges</th>\n",
       "    </tr>\n",
       "  </thead>\n",
       "  <tbody>\n",
       "    <tr>\n",
       "      <th>count</th>\n",
       "      <td>7043.000000</td>\n",
       "      <td>7043.000000</td>\n",
       "      <td>7043.000000</td>\n",
       "      <td>7043.000000</td>\n",
       "      <td>7043.000000</td>\n",
       "      <td>7043.000000</td>\n",
       "    </tr>\n",
       "    <tr>\n",
       "      <th>mean</th>\n",
       "      <td>2.315633</td>\n",
       "      <td>1.872923</td>\n",
       "      <td>1.690473</td>\n",
       "      <td>0.162147</td>\n",
       "      <td>32.371149</td>\n",
       "      <td>64.761692</td>\n",
       "    </tr>\n",
       "    <tr>\n",
       "      <th>std</th>\n",
       "      <td>1.148907</td>\n",
       "      <td>0.737796</td>\n",
       "      <td>0.833755</td>\n",
       "      <td>0.368612</td>\n",
       "      <td>24.559481</td>\n",
       "      <td>30.090047</td>\n",
       "    </tr>\n",
       "    <tr>\n",
       "      <th>min</th>\n",
       "      <td>1.000000</td>\n",
       "      <td>1.000000</td>\n",
       "      <td>1.000000</td>\n",
       "      <td>0.000000</td>\n",
       "      <td>0.000000</td>\n",
       "      <td>18.250000</td>\n",
       "    </tr>\n",
       "    <tr>\n",
       "      <th>25%</th>\n",
       "      <td>1.000000</td>\n",
       "      <td>1.000000</td>\n",
       "      <td>1.000000</td>\n",
       "      <td>0.000000</td>\n",
       "      <td>9.000000</td>\n",
       "      <td>35.500000</td>\n",
       "    </tr>\n",
       "    <tr>\n",
       "      <th>50%</th>\n",
       "      <td>2.000000</td>\n",
       "      <td>2.000000</td>\n",
       "      <td>1.000000</td>\n",
       "      <td>0.000000</td>\n",
       "      <td>29.000000</td>\n",
       "      <td>70.350000</td>\n",
       "    </tr>\n",
       "    <tr>\n",
       "      <th>75%</th>\n",
       "      <td>3.000000</td>\n",
       "      <td>2.000000</td>\n",
       "      <td>2.000000</td>\n",
       "      <td>0.000000</td>\n",
       "      <td>55.000000</td>\n",
       "      <td>89.850000</td>\n",
       "    </tr>\n",
       "    <tr>\n",
       "      <th>max</th>\n",
       "      <td>4.000000</td>\n",
       "      <td>3.000000</td>\n",
       "      <td>3.000000</td>\n",
       "      <td>1.000000</td>\n",
       "      <td>72.000000</td>\n",
       "      <td>118.750000</td>\n",
       "    </tr>\n",
       "  </tbody>\n",
       "</table>\n",
       "</div>"
      ],
      "text/plain": [
       "       payment_type_id  internet_service_type_id  contract_type_id  \\\n",
       "count      7043.000000               7043.000000       7043.000000   \n",
       "mean          2.315633                  1.872923          1.690473   \n",
       "std           1.148907                  0.737796          0.833755   \n",
       "min           1.000000                  1.000000          1.000000   \n",
       "25%           1.000000                  1.000000          1.000000   \n",
       "50%           2.000000                  2.000000          1.000000   \n",
       "75%           3.000000                  2.000000          2.000000   \n",
       "max           4.000000                  3.000000          3.000000   \n",
       "\n",
       "       senior_citizen       tenure  monthly_charges  \n",
       "count     7043.000000  7043.000000      7043.000000  \n",
       "mean         0.162147    32.371149        64.761692  \n",
       "std          0.368612    24.559481        30.090047  \n",
       "min          0.000000     0.000000        18.250000  \n",
       "25%          0.000000     9.000000        35.500000  \n",
       "50%          0.000000    29.000000        70.350000  \n",
       "75%          0.000000    55.000000        89.850000  \n",
       "max          1.000000    72.000000       118.750000  "
      ]
     },
     "execution_count": 5,
     "metadata": {},
     "output_type": "execute_result"
    }
   ],
   "source": [
    "acquire.get_telco_db().describe()"
   ]
  },
  {
   "cell_type": "code",
   "execution_count": 52,
   "id": "1ceec3e9-08df-414f-b92d-d87c789a44ff",
   "metadata": {
    "tags": []
   },
   "outputs": [
    {
     "name": "stdout",
     "output_type": "stream",
     "text": [
      "this file exists, reading from csv file\n"
     ]
    }
   ],
   "source": [
    "# Used the prepare function to split the dataframe and save it to train, validate, and test\n",
    "train, validate, test = prepare.splitting_data(prepare.prep_telco(acquire.get_telco_db()), 'churn')\n",
    "\n",
    "# breaking data set for modeling\n",
    "train_encoded, validate_encoded, test_encoded = preprocess.preprocess_telco(train, validate, test)\n",
    "\n",
    "# Isolate the target variable as its only column \n",
    "y_train = train_encoded['churn_Yes']\n",
    "y_validate = validate_encoded['churn_Yes']\n",
    "y_test = test_encoded['churn_Yes']\n",
    "\n",
    "# Removing target variable for modeling\n",
    "X_train = train_encoded.drop(columns=['churn_Yes'])\n",
    "X_validate = validate_encoded.drop(columns=['churn_Yes'])\n",
    "X_test = test_encoded.drop(columns=['churn_Yes'])"
   ]
  },
  {
   "cell_type": "markdown",
   "id": "adacf827-91db-4588-bb02-bd194aaf1986",
   "metadata": {},
   "source": [
    "## Explore"
   ]
  },
  {
   "cell_type": "markdown",
   "id": "8cfe8fc8-c27e-4573-97b9-07b58bc05df1",
   "metadata": {
    "tags": []
   },
   "source": [
    "#### I will show 4 explorations on which why customers are churning"
   ]
  },
  {
   "cell_type": "markdown",
   "id": "4da70f50-d120-455d-a86b-7281c31884e2",
   "metadata": {
    "tags": []
   },
   "source": [
    "#### 1. Hypothesize\n",
    "\n",
    "> Question: Does customers tends to churn when seeing their monthly charges goes up?\n",
    "\n",
    ">> Monthly_charges: continouos\n",
    "\n",
    ">> Churn: categorical"
   ]
  },
  {
   "cell_type": "markdown",
   "id": "5e45ff0b-924e-449e-85b3-2eda34be25a4",
   "metadata": {},
   "source": [
    "> #### Visualize \n",
    "\n",
    "> $H_o$:    There IS NO relationship between monthly charges type and customer churning\n",
    "\n",
    "> $H_a$:     There IS a relationship between contract type and customer churning\n",
    "\n",
    "> alpha = 0.05"
   ]
  },
  {
   "cell_type": "code",
   "execution_count": 6,
   "id": "7cba00e4-003b-4e87-9d2d-5a2b5606f12f",
   "metadata": {
    "tags": []
   },
   "outputs": [
    {
     "data": {
      "image/png": "[encoded data removed]",
      "text/plain": [
       "<Figure size 640x480 with 1 Axes>"
      ]
     },
     "metadata": {},
     "output_type": "display_data"
    }
   ],
   "source": [
    "sns.barplot(data=train, x='monthly_charges', y='churn');"
   ]
  },
  {
   "cell_type": "code",
   "execution_count": 7,
   "id": "1c07f682-710b-4c3b-be16-e06a0735073a",
   "metadata": {
    "tags": []
   },
   "outputs": [
    {
     "data": {
      "text/plain": [
       "TtestResult(statistic=2.138187490683667, pvalue=0.03255874627471022, df=4224.0)"
      ]
     },
     "execution_count": 7,
     "metadata": {},
     "output_type": "execute_result"
    }
   ],
   "source": [
    "train_churn_yes = (train.churn == 'Yes').mean()\n",
    "stats.ttest_ind(train.monthly_charges, train_churn_yes)"
   ]
  },
  {
   "cell_type": "markdown",
   "id": "87fad535-36f6-409c-8575-bdb4b3a38869",
   "metadata": {},
   "source": [
    "> #### Summarize (Comparing monthy charges and Churn = yes)\n",
    "\n",
    "> p < alpha\n",
    "\n",
    "> Conclusion: We reject the null hypothesis \n",
    ">> There is a relationshp between the monthly charges and customer churning\n",
    "\n",
    ">> It seems when the monthly charges goes up, customer tends to churn\n"
   ]
  },
  {
   "cell_type": "markdown",
   "id": "477b2b03-e568-481a-a18d-1815bbb4c333",
   "metadata": {},
   "source": [
    "> #### 2. Hypothesize\n",
    "\n",
    "> Question: Does customers tends to churn when seeing their monthly charges goes up and using paperless billing?\n",
    ">> Monthly_charges: continouos\n",
    "\n",
    ">> Churn: categorical\n",
    "\n",
    ">> Paperless billing: categorical"
   ]
  },
  {
   "cell_type": "markdown",
   "id": "c08f4ff4-cc26-46e8-a76b-89a88fa88ecd",
   "metadata": {},
   "source": [
    "> #### Visualize\n",
    "\n",
    "> $H_o$: There IS NO relationship between monthly charges, paperless billing and customer churning\n",
    "\n",
    "> $H_a$: There IS a relationship between monthly charges, paperless billing and customer churning\n",
    "\n",
    "> alpha = 0.05"
   ]
  },
  {
   "cell_type": "code",
   "execution_count": 8,
   "id": "98f64acf-ae31-4da7-ad55-550fb2b25924",
   "metadata": {
    "tags": []
   },
   "outputs": [
    {
     "data": {
      "image/png": "[encoded data removed]",
      "text/plain": [
       "<Figure size 640x480 with 1 Axes>"
      ]
     },
     "metadata": {},
     "output_type": "display_data"
    }
   ],
   "source": [
    "sns.boxplot(data=train, x='churn', y='monthly_charges', hue='paperless_billing');"
   ]
  },
  {
   "cell_type": "code",
   "execution_count": 9,
   "id": "d4a81062-509e-4502-98da-b204ac2e6777",
   "metadata": {
    "tags": []
   },
   "outputs": [],
   "source": [
    "train_monthly = train['monthly_charges'].mean()\n",
    "train_paperless = (train.paperless_billing).value_counts(normalize=True).head(1)\n",
    "train_churn = (train.churn == 'Yes').mean()"
   ]
  },
  {
   "cell_type": "code",
   "execution_count": 10,
   "id": "e0eef7a4-c8da-4eea-81bc-9d892bcc4922",
   "metadata": {
    "tags": []
   },
   "outputs": [
    {
     "data": {
      "text/plain": [
       "KruskalResult(statistic=2.0, pvalue=0.36787944117144245)"
      ]
     },
     "execution_count": 10,
     "metadata": {},
     "output_type": "execute_result"
    }
   ],
   "source": [
    "stats.kruskal(train_paperless, train_churn, train_monthly)"
   ]
  },
  {
   "cell_type": "markdown",
   "id": "0a097049-fb91-4afd-a285-29c7755af5e1",
   "metadata": {
    "tags": []
   },
   "source": [
    "> ##### Summarize (Comparing paperless_billing, Churn = Yes, and Monthly_charges)\n",
    "\n",
    "> p < alpha\n",
    "\n",
    "> Conclusion: we reject the null hypothesis, \n",
    ">> There IS a relationship between monthly charges, paperless_billing, and customer churning\n",
    "\n",
    ">> It seems that customers are churning when monthly charges goes up and using paperless billing"
   ]
  },
  {
   "cell_type": "markdown",
   "id": "bd27bbf0-a4dc-49e9-8883-185675d69b45",
   "metadata": {},
   "source": [
    "> #### 3. Hypothesize\n",
    "\n",
    "> Question: Does customers tends to churn when seeing their monthly charges goes up and the type of contract?\n",
    "\n",
    "> Monthly_charges: continouos\n",
    "\n",
    "> Churn: categorical\n",
    "\n",
    "> Contract type: categorical"
   ]
  },
  {
   "cell_type": "markdown",
   "id": "6a262ebe-e753-4700-bb7a-fd6b75375e0b",
   "metadata": {},
   "source": [
    "> #### Visualize\n",
    "\n",
    "> $H_o$: There IS a relationship between monthly charges, contract type and customer churning\n",
    "\n",
    "> $H_a$: There IS NO relationship between monthly charges, contract type and customer churning\n",
    "\n",
    "> alpha = 0.05"
   ]
  },
  {
   "cell_type": "code",
   "execution_count": 11,
   "id": "63d1d160-97ff-41da-b699-7794391ae954",
   "metadata": {
    "tags": []
   },
   "outputs": [
    {
     "data": {
      "image/png": "[encoded data removed]",
      "text/plain": [
       "<Figure size 640x480 with 1 Axes>"
      ]
     },
     "metadata": {},
     "output_type": "display_data"
    }
   ],
   "source": [
    "sns.barplot(data=train, y='monthly_charges', x='churn', hue='contract_type');"
   ]
  },
  {
   "cell_type": "code",
   "execution_count": 12,
   "id": "733ec052-2159-4e2d-b62f-8ccaaf9c14ef",
   "metadata": {
    "tags": []
   },
   "outputs": [],
   "source": [
    "dummies_churn = pd.get_dummies(train.churn, drop_first=True).astype(int)\n",
    "dummies_churn = dummies_churn.mean()\n",
    "\n",
    "dummies_contract = pd.get_dummies(train.contract_type).astype(int)\n",
    "dummies_contract = dummies_churn.mean()"
   ]
  },
  {
   "cell_type": "code",
   "execution_count": 13,
   "id": "5d5540e2-7d70-47fa-bd52-163c3e7d26f4",
   "metadata": {
    "tags": []
   },
   "outputs": [
    {
     "data": {
      "text/plain": [
       "KruskalResult(statistic=5.995777297439512, pvalue=0.04989229740704447)"
      ]
     },
     "execution_count": 13,
     "metadata": {},
     "output_type": "execute_result"
    }
   ],
   "source": [
    "stats.kruskal(train.monthly_charges, dummies_churn, dummies_contract)"
   ]
  },
  {
   "cell_type": "markdown",
   "id": "89be0bf7-2dd3-4e71-bb6c-979c04831cf7",
   "metadata": {
    "tags": []
   },
   "source": [
    "> #### Summarize 3 (Comparing monthly_charges, churn = Yes, contract_type)\n",
    "\n",
    "> p < alpha\n",
    "\n",
    "> Conclusion: we reject the null hypothesis\n",
    ">> There IS a relationship between Monthly charges, Contract_type and Customer churning\n",
    "\n",
    ">> It seems that customers are churning when monthly charges are increasing and contract type from monthly, yearly, and two-year "
   ]
  },
  {
   "cell_type": "markdown",
   "id": "1de11d88-e1dd-406a-ba35-311016c54dca",
   "metadata": {},
   "source": [
    "> #### 4. Hypothesize\n",
    "\n",
    "> Question: Does customers tends to churn when seeing their monthly charges goes up and using payment type? \n",
    "\n",
    "> Monthly_charges: continouos\n",
    "\n",
    "> Churn: categorical\n",
    "\n",
    "> Payment type: categorical"
   ]
  },
  {
   "cell_type": "markdown",
   "id": "c27a235d-21de-4432-b883-7c07b1a2c9ea",
   "metadata": {},
   "source": [
    "> #### Visualize\n",
    "\n",
    "> $H_o$: There IS NO relationship between Monthly charges, Contract type and Customer churning\n",
    "\n",
    "> $H_a$: There IS a relationship between Monthly charges, Contract type and Customer churning\n",
    "\n",
    "> alpha = 0.05"
   ]
  },
  {
   "cell_type": "code",
   "execution_count": 14,
   "id": "6f390311-4731-4df4-9739-0710ff13b728",
   "metadata": {
    "tags": []
   },
   "outputs": [
    {
     "data": {
      "image/png": "[encoded data removed]",
      "text/plain": [
       "<Figure size 640x480 with 1 Axes>"
      ]
     },
     "metadata": {},
     "output_type": "display_data"
    }
   ],
   "source": [
    "sns.barplot(data=train, y='monthly_charges', x='churn', hue='payment_type');"
   ]
  },
  {
   "cell_type": "code",
   "execution_count": 15,
   "id": "8dc04b60-240f-4404-97bd-b865d04bd17b",
   "metadata": {
    "tags": []
   },
   "outputs": [],
   "source": [
    "dummies_payment_type = pd.get_dummies(train.payment_type, drop_first=True).astype(int)\n",
    "dummies_payment_type = dummies_payment_type.mean()"
   ]
  },
  {
   "cell_type": "code",
   "execution_count": 16,
   "id": "131c389f-3cd9-48b2-a601-931e0af133ed",
   "metadata": {
    "tags": []
   },
   "outputs": [
    {
     "data": {
      "text/plain": [
       "KruskalResult(statistic=11.985884953600483, pvalue=0.002496307904769981)"
      ]
     },
     "execution_count": 16,
     "metadata": {},
     "output_type": "execute_result"
    }
   ],
   "source": [
    "stats.kruskal(train.monthly_charges, dummies_churn, dummies_payment_type)"
   ]
  },
  {
   "cell_type": "markdown",
   "id": "043cb845-473d-49ed-b323-0ac683612086",
   "metadata": {
    "tags": []
   },
   "source": [
    "> #### Summarize 4 (Comparing monthly_charges, churn = Yes, Payment type)\n",
    "\n",
    "> p < alpha\n",
    "\n",
    "> Conclusion: we reject the null hypothesis\n",
    ">> There IS a relationship between Monthly charges, Payment type and Customer churning\n",
    "\n",
    ">> It seems that customers are churning seeing their monthly charges goes and the payment type "
   ]
  },
  {
   "cell_type": "markdown",
   "id": "16e20cd1-c5b7-48a5-9b23-cb3126f1419e",
   "metadata": {},
   "source": [
    "# Exploration Summary\n",
    "\n",
    "> * 1st Exploration: Monthly_charges and churn\n",
    ">> It seems when the monthly charges goes up, customer tends to churn\n",
    "\n",
    "> * 2nd Exploration: Monthly_charges, paperless_billing, and churn\n",
    ">> It seems that customers are churning when monthly charges goes up and using paperless billing\n",
    "\n",
    "> * 3rd Exploration: Monthly_charges, contract_type, and churn\n",
    ">> It seems that customers are churning when monthly charges are increasing and contract type from monthly, yearly, and two-year \n",
    "\n",
    "> * 4th Exploration: Monthly_charges, payment_type, and churn\n",
    ">> It seems customers are churning seeing monthly charges increased and type of payment \n",
    "\n",
    "> #### Take-aways\n",
    ">> This shows that customers are churning went it comes to monthly charges increased, using paperless_billing, the type of contract, and how they are making payment"
   ]
  },
  {
   "cell_type": "markdown",
   "id": "2eb1b65b-70af-4155-b45a-92e002cc7f70",
   "metadata": {},
   "source": [
    "# Modeling\n",
    "> #### Decision Tree, Random Forest, and Logistic Regression\n",
    "\n",
    ">> I selected these modeling because it can handle both continuous and categorical data. It works well with features."
   ]
  },
  {
   "cell_type": "markdown",
   "id": "f9a7e613-2bc8-4695-821b-76d2860d4c0f",
   "metadata": {},
   "source": [
    "> ### 1. Decision Tree \n",
    ">> Baseline is: 73%"
   ]
  },
  {
   "cell_type": "code",
   "execution_count": 17,
   "id": "ae93f513-1e83-447f-81ec-12454d31240a",
   "metadata": {
    "tags": []
   },
   "outputs": [
    {
     "data": {
      "text/plain": [
       "0    0\n",
       "Name: churn_Yes, dtype: int64"
      ]
     },
     "execution_count": 17,
     "metadata": {},
     "output_type": "execute_result"
    }
   ],
   "source": [
    "# Setting up my Baseline\n",
    "y_train.mode()"
   ]
  },
  {
   "cell_type": "code",
   "execution_count": 18,
   "id": "7a0c9bbc-2107-4c0b-bed3-f934b290b562",
   "metadata": {
    "tags": []
   },
   "outputs": [
    {
     "data": {
      "text/plain": [
       "0.7346745562130178"
      ]
     },
     "execution_count": 18,
     "metadata": {},
     "output_type": "execute_result"
    }
   ],
   "source": [
    "# taking the mean of mode\n",
    "(y_train == 0).mean()"
   ]
  },
  {
   "cell_type": "markdown",
   "id": "a7192058-4a29-48b2-9f79-5a8c3871a50b",
   "metadata": {},
   "source": [
    "> My baseline for churn_Yes is: 73%"
   ]
  },
  {
   "cell_type": "code",
   "execution_count": 19,
   "id": "d66563b2-77d7-42c9-b204-ad8e2822cdd2",
   "metadata": {
    "tags": []
   },
   "outputs": [],
   "source": [
    "# Setting up my model\n",
    "tree = DecisionTreeClassifier()\n",
    "\n",
    "# fit the object\n",
    "tree.fit(X_train, y_train)\n",
    "\n",
    "# Storing my predicted values\n",
    "y_pred = tree.predict(X_train)"
   ]
  },
  {
   "cell_type": "code",
   "execution_count": 20,
   "id": "aafbb1f9-0836-4b22-8db3-3ddda9ee5dba",
   "metadata": {
    "tags": []
   },
   "outputs": [
    {
     "name": "stdout",
     "output_type": "stream",
     "text": [
      "              precision    recall  f1-score   support\n",
      "\n",
      "           0       1.00      1.00      1.00      3104\n",
      "           1       1.00      0.99      1.00      1121\n",
      "\n",
      "    accuracy                           1.00      4225\n",
      "   macro avg       1.00      1.00      1.00      4225\n",
      "weighted avg       1.00      1.00      1.00      4225\n",
      "\n"
     ]
    }
   ],
   "source": [
    "# Printing classificatin report\n",
    "print(classification_report(y_train, y_pred))"
   ]
  },
  {
   "cell_type": "code",
   "execution_count": 21,
   "id": "b6523e00-d488-49be-9dc5-a8462eb2fe57",
   "metadata": {
    "tags": []
   },
   "outputs": [
    {
     "data": {
      "text/html": [
       "<div>\n",
       "<style scoped>\n",
       "    .dataframe tbody tr th:only-of-type {\n",
       "        vertical-align: middle;\n",
       "    }\n",
       "\n",
       "    .dataframe tbody tr th {\n",
       "        vertical-align: top;\n",
       "    }\n",
       "\n",
       "    .dataframe thead th {\n",
       "        text-align: right;\n",
       "    }\n",
       "</style>\n",
       "<table border=\"1\" class=\"dataframe\">\n",
       "  <thead>\n",
       "    <tr style=\"text-align: right;\">\n",
       "      <th>col_0</th>\n",
       "      <th>0</th>\n",
       "      <th>1</th>\n",
       "    </tr>\n",
       "    <tr>\n",
       "      <th>churn_Yes</th>\n",
       "      <th></th>\n",
       "      <th></th>\n",
       "    </tr>\n",
       "  </thead>\n",
       "  <tbody>\n",
       "    <tr>\n",
       "      <th>0</th>\n",
       "      <td>3104</td>\n",
       "      <td>0</td>\n",
       "    </tr>\n",
       "    <tr>\n",
       "      <th>1</th>\n",
       "      <td>10</td>\n",
       "      <td>1111</td>\n",
       "    </tr>\n",
       "  </tbody>\n",
       "</table>\n",
       "</div>"
      ],
      "text/plain": [
       "col_0         0     1\n",
       "churn_Yes            \n",
       "0          3104     0\n",
       "1            10  1111"
      ]
     },
     "execution_count": 21,
     "metadata": {},
     "output_type": "execute_result"
    }
   ],
   "source": [
    "# Using crosstab to clearly see the values for setting up confusion matrix\n",
    "pd.crosstab(y_train, y_pred)"
   ]
  },
  {
   "cell_type": "code",
   "execution_count": 22,
   "id": "905f6954-60bb-43b0-8e8b-67b5161a0342",
   "metadata": {
    "tags": []
   },
   "outputs": [
    {
     "name": "stdout",
     "output_type": "stream",
     "text": [
      "True Positive Rate/Sensitivity/Recall/Power: 0.9910793933987511\n",
      "False Positive Rate/False Alarm Ratio/Fall-out: 0.0\n",
      "True Negative Rate/Specificity/Selectivity: 1.0\n",
      "False Negative Rate/Miss Rate: 0.008920606601248885\n",
      "\n",
      "              precision    recall  f1-score   support\n",
      "\n",
      "           0       1.00      1.00      1.00      3104\n",
      "           1       1.00      0.99      1.00      1121\n",
      "\n",
      "    accuracy                           1.00      4225\n",
      "   macro avg       1.00      1.00      1.00      4225\n",
      "weighted avg       1.00      1.00      1.00      4225\n",
      "\n"
     ]
    }
   ],
   "source": [
    "# Used function to print classification report and confusion matrix\n",
    "functions_used.compute_class_metrics(y_train, y_pred)"
   ]
  },
  {
   "cell_type": "code",
   "execution_count": 23,
   "id": "6378b518-2711-4314-a98b-c09e89e8575b",
   "metadata": {
    "tags": []
   },
   "outputs": [
    {
     "name": "stdout",
     "output_type": "stream",
     "text": [
      "max depth of 1, the accuracy score = 0.74, validate score = 0.73\n",
      "max depth of 2, the accuracy score = 0.78, validate score = 0.79\n",
      "max depth of 3, the accuracy score = 0.78, validate score = 0.79\n",
      "max depth of 4, the accuracy score = 0.79, validate score = 0.78\n",
      "max depth of 5, the accuracy score = 0.8, validate score = 0.79\n",
      "max depth of 6, the accuracy score = 0.81, validate score = 0.79\n",
      "max depth of 7, the accuracy score = 0.82, validate score = 0.78\n",
      "max depth of 8, the accuracy score = 0.83, validate score = 0.78\n",
      "max depth of 9, the accuracy score = 0.85, validate score = 0.78\n",
      "max depth of 10, the accuracy score = 0.87, validate score = 0.77\n"
     ]
    }
   ],
   "source": [
    "# Calling on the function using Decision Tree \n",
    "# input of max depth of 10\n",
    "# output of accuracy score and validate score\n",
    "functions_used.decision_tree(X_train, y_train, X_validate, y_validate)"
   ]
  },
  {
   "cell_type": "markdown",
   "id": "38824d57-71b1-4fd6-9cc4-b7903e1b076b",
   "metadata": {},
   "source": [
    "> #### Using Decision Tree result\n",
    "> Best model: Model with max_depth: 2, with accuracy_score: 78% and validate_score: 79%"
   ]
  },
  {
   "cell_type": "markdown",
   "id": "9ec5d298-6b49-403c-a759-b1615e14f323",
   "metadata": {},
   "source": [
    "> ### 2. Using Random Forest \n",
    "\n",
    ">> Baseline is: 73%"
   ]
  },
  {
   "cell_type": "code",
   "execution_count": 24,
   "id": "2ba6a87c-abbc-4d24-ae01-e8d7417c8750",
   "metadata": {
    "tags": []
   },
   "outputs": [
    {
     "data": {
      "text/html": [
       "<style>#sk-container-id-1 {color: black;}#sk-container-id-1 pre{padding: 0;}#sk-container-id-1 div.sk-toggleable {background-color: white;}#sk-container-id-1 label.sk-toggleable__label {cursor: pointer;display: block;width: 100%;margin-bottom: 0;padding: 0.3em;box-sizing: border-box;text-align: center;}#sk-container-id-1 label.sk-toggleable__label-arrow:before {content: \"▸\";float: left;margin-right: 0.25em;color: #696969;}#sk-container-id-1 label.sk-toggleable__label-arrow:hover:before {color: black;}#sk-container-id-1 div.sk-estimator:hover label.sk-toggleable__label-arrow:before {color: black;}#sk-container-id-1 div.sk-toggleable__content {max-height: 0;max-width: 0;overflow: hidden;text-align: left;background-color: #f0f8ff;}#sk-container-id-1 div.sk-toggleable__content pre {margin: 0.2em;color: black;border-radius: 0.25em;background-color: #f0f8ff;}#sk-container-id-1 input.sk-toggleable__control:checked~div.sk-toggleable__content {max-height: 200px;max-width: 100%;overflow: auto;}#sk-container-id-1 input.sk-toggleable__control:checked~label.sk-toggleable__label-arrow:before {content: \"▾\";}#sk-container-id-1 div.sk-estimator input.sk-toggleable__control:checked~label.sk-toggleable__label {background-color: #d4ebff;}#sk-container-id-1 div.sk-label input.sk-toggleable__control:checked~label.sk-toggleable__label {background-color: #d4ebff;}#sk-container-id-1 input.sk-hidden--visually {border: 0;clip: rect(1px 1px 1px 1px);clip: rect(1px, 1px, 1px, 1px);height: 1px;margin: -1px;overflow: hidden;padding: 0;position: absolute;width: 1px;}#sk-container-id-1 div.sk-estimator {font-family: monospace;background-color: #f0f8ff;border: 1px dotted black;border-radius: 0.25em;box-sizing: border-box;margin-bottom: 0.5em;}#sk-container-id-1 div.sk-estimator:hover {background-color: #d4ebff;}#sk-container-id-1 div.sk-parallel-item::after {content: \"\";width: 100%;border-bottom: 1px solid gray;flex-grow: 1;}#sk-container-id-1 div.sk-label:hover label.sk-toggleable__label {background-color: #d4ebff;}#sk-container-id-1 div.sk-serial::before {content: \"\";position: absolute;border-left: 1px solid gray;box-sizing: border-box;top: 0;bottom: 0;left: 50%;z-index: 0;}#sk-container-id-1 div.sk-serial {display: flex;flex-direction: column;align-items: center;background-color: white;padding-right: 0.2em;padding-left: 0.2em;position: relative;}#sk-container-id-1 div.sk-item {position: relative;z-index: 1;}#sk-container-id-1 div.sk-parallel {display: flex;align-items: stretch;justify-content: center;background-color: white;position: relative;}#sk-container-id-1 div.sk-item::before, #sk-container-id-1 div.sk-parallel-item::before {content: \"\";position: absolute;border-left: 1px solid gray;box-sizing: border-box;top: 0;bottom: 0;left: 50%;z-index: -1;}#sk-container-id-1 div.sk-parallel-item {display: flex;flex-direction: column;z-index: 1;position: relative;background-color: white;}#sk-container-id-1 div.sk-parallel-item:first-child::after {align-self: flex-end;width: 50%;}#sk-container-id-1 div.sk-parallel-item:last-child::after {align-self: flex-start;width: 50%;}#sk-container-id-1 div.sk-parallel-item:only-child::after {width: 0;}#sk-container-id-1 div.sk-dashed-wrapped {border: 1px dashed gray;margin: 0 0.4em 0.5em 0.4em;box-sizing: border-box;padding-bottom: 0.4em;background-color: white;}#sk-container-id-1 div.sk-label label {font-family: monospace;font-weight: bold;display: inline-block;line-height: 1.2em;}#sk-container-id-1 div.sk-label-container {text-align: center;}#sk-container-id-1 div.sk-container {/* jupyter's `normalize.less` sets `[hidden] { display: none; }` but bootstrap.min.css set `[hidden] { display: none !important; }` so we also need the `!important` here to be able to override the default hidden behavior on the sphinx rendered scikit-learn.org. See: https://github.com/scikit-learn/scikit-learn/issues/21755 */display: inline-block !important;position: relative;}#sk-container-id-1 div.sk-text-repr-fallback {display: none;}</style><div id=\"sk-container-id-1\" class=\"sk-top-container\"><div class=\"sk-text-repr-fallback\"><pre>RandomForestClassifier(max_depth=10)</pre><b>In a Jupyter environment, please rerun this cell to show the HTML representation or trust the notebook. <br />On GitHub, the HTML representation is unable to render, please try loading this page with nbviewer.org.</b></div><div class=\"sk-container\" hidden><div class=\"sk-item\"><div class=\"sk-estimator sk-toggleable\"><input class=\"sk-toggleable__control sk-hidden--visually\" id=\"sk-estimator-id-1\" type=\"checkbox\" checked><label for=\"sk-estimator-id-1\" class=\"sk-toggleable__label sk-toggleable__label-arrow\">RandomForestClassifier</label><div class=\"sk-toggleable__content\"><pre>RandomForestClassifier(max_depth=10)</pre></div></div></div></div></div>"
      ],
      "text/plain": [
       "RandomForestClassifier(max_depth=10)"
      ]
     },
     "execution_count": 24,
     "metadata": {},
     "output_type": "execute_result"
    }
   ],
   "source": [
    "# Using Random Forest for my second algorithm\n",
    "rf = RandomForestClassifier(max_depth=10)\n",
    "\n",
    "# Fitting the model\n",
    "rf.fit(X_train, y_train)"
   ]
  },
  {
   "cell_type": "code",
   "execution_count": 25,
   "id": "7740bc31-09e5-4fc6-a1f7-87a48d0140b1",
   "metadata": {
    "tags": []
   },
   "outputs": [
    {
     "data": {
      "text/plain": [
       "0.8733727810650888"
      ]
     },
     "execution_count": 25,
     "metadata": {},
     "output_type": "execute_result"
    }
   ],
   "source": [
    "# Storing values\n",
    "y_pred = rf.predict(X_train)\n",
    "\n",
    "# Taking the probability of prediction\n",
    "y_pred_proba = rf.predict_proba(X_train)\n",
    "\n",
    "# Accuracy score -- using only TRAIN\n",
    "rf.score(X_train, y_train)"
   ]
  },
  {
   "cell_type": "code",
   "execution_count": 26,
   "id": "06cc4013-a5f2-4089-b209-c0c84ba9a8d8",
   "metadata": {
    "tags": []
   },
   "outputs": [
    {
     "data": {
      "text/html": [
       "<div>\n",
       "<style scoped>\n",
       "    .dataframe tbody tr th:only-of-type {\n",
       "        vertical-align: middle;\n",
       "    }\n",
       "\n",
       "    .dataframe tbody tr th {\n",
       "        vertical-align: top;\n",
       "    }\n",
       "\n",
       "    .dataframe thead th {\n",
       "        text-align: right;\n",
       "    }\n",
       "</style>\n",
       "<table border=\"1\" class=\"dataframe\">\n",
       "  <thead>\n",
       "    <tr style=\"text-align: right;\">\n",
       "      <th>col_0</th>\n",
       "      <th>0</th>\n",
       "      <th>1</th>\n",
       "    </tr>\n",
       "    <tr>\n",
       "      <th>churn_Yes</th>\n",
       "      <th></th>\n",
       "      <th></th>\n",
       "    </tr>\n",
       "  </thead>\n",
       "  <tbody>\n",
       "    <tr>\n",
       "      <th>0</th>\n",
       "      <td>2938</td>\n",
       "      <td>166</td>\n",
       "    </tr>\n",
       "    <tr>\n",
       "      <th>1</th>\n",
       "      <td>369</td>\n",
       "      <td>752</td>\n",
       "    </tr>\n",
       "  </tbody>\n",
       "</table>\n",
       "</div>"
      ],
      "text/plain": [
       "col_0         0    1\n",
       "churn_Yes           \n",
       "0          2938  166\n",
       "1           369  752"
      ]
     },
     "execution_count": 26,
     "metadata": {},
     "output_type": "execute_result"
    }
   ],
   "source": [
    "# Using crosstab to clearly see the values for setting up confusion matrix\n",
    "pd.crosstab(y_train, y_pred)"
   ]
  },
  {
   "cell_type": "code",
   "execution_count": 27,
   "id": "6579e1f0-cb00-4be7-a01a-17ab5c39db95",
   "metadata": {
    "tags": []
   },
   "outputs": [
    {
     "name": "stdout",
     "output_type": "stream",
     "text": [
      "True Positive Rate/Sensitivity/Recall/Power: 0.6708296164139161\n",
      "False Positive Rate/False Alarm Ratio/Fall-out: 0.053479381443298966\n",
      "True Negative Rate/Specificity/Selectivity: 0.946520618556701\n",
      "False Negative Rate/Miss Rate: 0.32917038358608386\n",
      "\n",
      "              precision    recall  f1-score   support\n",
      "\n",
      "           0       0.89      0.95      0.92      3104\n",
      "           1       0.82      0.67      0.74      1121\n",
      "\n",
      "    accuracy                           0.87      4225\n",
      "   macro avg       0.85      0.81      0.83      4225\n",
      "weighted avg       0.87      0.87      0.87      4225\n",
      "\n"
     ]
    }
   ],
   "source": [
    "# Used function to print classification report and confusion matrix\n",
    "functions_used.compute_class_metrics(y_train, y_pred)"
   ]
  },
  {
   "cell_type": "code",
   "execution_count": 28,
   "id": "5929c6c9-838d-4c4c-a119-2393b3344871",
   "metadata": {
    "tags": []
   },
   "outputs": [
    {
     "name": "stdout",
     "output_type": "stream",
     "text": [
      "min_leaf_samples = 1, max_depth = 10, accuracy score = 0.87, validate score 0.81\n",
      "min_leaf_samples = 2, max_depth = 9, accuracy score = 0.84, validate score 0.81\n",
      "min_leaf_samples = 3, max_depth = 8, accuracy score = 0.83, validate score 0.8\n",
      "min_leaf_samples = 4, max_depth = 7, accuracy score = 0.82, validate score 0.81\n",
      "min_leaf_samples = 5, max_depth = 6, accuracy score = 0.8, validate score 0.8\n",
      "min_leaf_samples = 6, max_depth = 5, accuracy score = 0.8, validate score 0.8\n",
      "min_leaf_samples = 7, max_depth = 4, accuracy score = 0.79, validate score 0.79\n",
      "min_leaf_samples = 8, max_depth = 3, accuracy score = 0.77, validate score 0.77\n",
      "min_leaf_samples = 9, max_depth = 2, accuracy score = 0.73, validate score 0.73\n",
      "min_leaf_samples = 10, max_depth = 1, accuracy score = 0.73, validate score 0.73\n"
     ]
    }
   ],
   "source": [
    "# Calling the function using random forest with a leaf samples, max depth and outputing accuracy score and validate score\n",
    "functions_used.random_forest(X_train, y_train, X_validate, y_validate)"
   ]
  },
  {
   "cell_type": "markdown",
   "id": "7bb4c191-8296-4585-87f8-1758559491fa",
   "metadata": {},
   "source": [
    "> #### Using Random Forest result\n",
    "> Best model: The model with min_leaf_samples = 1, max_depth = 10, have accuracy of 87% and validation: 81%"
   ]
  },
  {
   "cell_type": "markdown",
   "id": "0de127f6-a997-409f-9724-439a5d26d769",
   "metadata": {
    "tags": []
   },
   "source": [
    "> ### 3. Using Logistic Regression\n",
    "\n",
    ">> Baseline is: 73%"
   ]
  },
  {
   "cell_type": "markdown",
   "id": "5fb3adfb-5c03-468e-bf83-acbeca5357cf",
   "metadata": {},
   "source": [
    "> #### Used a function to load the features into the Algorithm\n",
    "\n",
    "> features 1 = monthly_charges, contract_type_One year, and contract_type_Two year\n",
    "\n",
    "> features 2 = monthly_charges, contract_type_One year, contract_type_Two year, and paperless_billing_Yes\n",
    "\n",
    "> features 3 = monthly_charges, contract_type_One year, contract_type_Two year, paperless_billing_Yes, and internet_service_type_Fiber optic\n",
    "\n",
    "> features 4 = monthly_charges, contract_type_One year, contract_type_Two year, paperless_billing_Yes, \n",
    "internet_service_type_Fiber optic and phone_service_Yes"
   ]
  },
  {
   "cell_type": "code",
   "execution_count": 30,
   "id": "29ad60dc-d2cf-498b-ab5f-6d40b00e0f60",
   "metadata": {
    "tags": []
   },
   "outputs": [
    {
     "data": {
      "text/html": [
       "<style>#sk-container-id-2 {color: black;}#sk-container-id-2 pre{padding: 0;}#sk-container-id-2 div.sk-toggleable {background-color: white;}#sk-container-id-2 label.sk-toggleable__label {cursor: pointer;display: block;width: 100%;margin-bottom: 0;padding: 0.3em;box-sizing: border-box;text-align: center;}#sk-container-id-2 label.sk-toggleable__label-arrow:before {content: \"▸\";float: left;margin-right: 0.25em;color: #696969;}#sk-container-id-2 label.sk-toggleable__label-arrow:hover:before {color: black;}#sk-container-id-2 div.sk-estimator:hover label.sk-toggleable__label-arrow:before {color: black;}#sk-container-id-2 div.sk-toggleable__content {max-height: 0;max-width: 0;overflow: hidden;text-align: left;background-color: #f0f8ff;}#sk-container-id-2 div.sk-toggleable__content pre {margin: 0.2em;color: black;border-radius: 0.25em;background-color: #f0f8ff;}#sk-container-id-2 input.sk-toggleable__control:checked~div.sk-toggleable__content {max-height: 200px;max-width: 100%;overflow: auto;}#sk-container-id-2 input.sk-toggleable__control:checked~label.sk-toggleable__label-arrow:before {content: \"▾\";}#sk-container-id-2 div.sk-estimator input.sk-toggleable__control:checked~label.sk-toggleable__label {background-color: #d4ebff;}#sk-container-id-2 div.sk-label input.sk-toggleable__control:checked~label.sk-toggleable__label {background-color: #d4ebff;}#sk-container-id-2 input.sk-hidden--visually {border: 0;clip: rect(1px 1px 1px 1px);clip: rect(1px, 1px, 1px, 1px);height: 1px;margin: -1px;overflow: hidden;padding: 0;position: absolute;width: 1px;}#sk-container-id-2 div.sk-estimator {font-family: monospace;background-color: #f0f8ff;border: 1px dotted black;border-radius: 0.25em;box-sizing: border-box;margin-bottom: 0.5em;}#sk-container-id-2 div.sk-estimator:hover {background-color: #d4ebff;}#sk-container-id-2 div.sk-parallel-item::after {content: \"\";width: 100%;border-bottom: 1px solid gray;flex-grow: 1;}#sk-container-id-2 div.sk-label:hover label.sk-toggleable__label {background-color: #d4ebff;}#sk-container-id-2 div.sk-serial::before {content: \"\";position: absolute;border-left: 1px solid gray;box-sizing: border-box;top: 0;bottom: 0;left: 50%;z-index: 0;}#sk-container-id-2 div.sk-serial {display: flex;flex-direction: column;align-items: center;background-color: white;padding-right: 0.2em;padding-left: 0.2em;position: relative;}#sk-container-id-2 div.sk-item {position: relative;z-index: 1;}#sk-container-id-2 div.sk-parallel {display: flex;align-items: stretch;justify-content: center;background-color: white;position: relative;}#sk-container-id-2 div.sk-item::before, #sk-container-id-2 div.sk-parallel-item::before {content: \"\";position: absolute;border-left: 1px solid gray;box-sizing: border-box;top: 0;bottom: 0;left: 50%;z-index: -1;}#sk-container-id-2 div.sk-parallel-item {display: flex;flex-direction: column;z-index: 1;position: relative;background-color: white;}#sk-container-id-2 div.sk-parallel-item:first-child::after {align-self: flex-end;width: 50%;}#sk-container-id-2 div.sk-parallel-item:last-child::after {align-self: flex-start;width: 50%;}#sk-container-id-2 div.sk-parallel-item:only-child::after {width: 0;}#sk-container-id-2 div.sk-dashed-wrapped {border: 1px dashed gray;margin: 0 0.4em 0.5em 0.4em;box-sizing: border-box;padding-bottom: 0.4em;background-color: white;}#sk-container-id-2 div.sk-label label {font-family: monospace;font-weight: bold;display: inline-block;line-height: 1.2em;}#sk-container-id-2 div.sk-label-container {text-align: center;}#sk-container-id-2 div.sk-container {/* jupyter's `normalize.less` sets `[hidden] { display: none; }` but bootstrap.min.css set `[hidden] { display: none !important; }` so we also need the `!important` here to be able to override the default hidden behavior on the sphinx rendered scikit-learn.org. See: https://github.com/scikit-learn/scikit-learn/issues/21755 */display: inline-block !important;position: relative;}#sk-container-id-2 div.sk-text-repr-fallback {display: none;}</style><div id=\"sk-container-id-2\" class=\"sk-top-container\"><div class=\"sk-text-repr-fallback\"><pre>LogisticRegression()</pre><b>In a Jupyter environment, please rerun this cell to show the HTML representation or trust the notebook. <br />On GitHub, the HTML representation is unable to render, please try loading this page with nbviewer.org.</b></div><div class=\"sk-container\" hidden><div class=\"sk-item\"><div class=\"sk-estimator sk-toggleable\"><input class=\"sk-toggleable__control sk-hidden--visually\" id=\"sk-estimator-id-2\" type=\"checkbox\" checked><label for=\"sk-estimator-id-2\" class=\"sk-toggleable__label sk-toggleable__label-arrow\">LogisticRegression</label><div class=\"sk-toggleable__content\"><pre>LogisticRegression()</pre></div></div></div></div></div>"
      ],
      "text/plain": [
       "LogisticRegression()"
      ]
     },
     "execution_count": 30,
     "metadata": {},
     "output_type": "execute_result"
    }
   ],
   "source": [
    "lr = LogisticRegression()\n",
    "lr"
   ]
  },
  {
   "cell_type": "code",
   "execution_count": 54,
   "id": "c6ad3460-2369-49df-b118-6b1edd662cc8",
   "metadata": {},
   "outputs": [
    {
     "name": "stdout",
     "output_type": "stream",
     "text": [
      "accuracy_score with features 1: 0.739, validation_score: 0.742\n",
      "accuracy_score with features 2: 0.752, validation_score: 0.756\n",
      "accuracy_score with features 3: 0.767, validation_score: 0.769\n",
      "accuracy_score with features 4: 0.767, validation_score: 0.769\n"
     ]
    }
   ],
   "source": [
    "# Called the function to get score with each feature and validation score\n",
    "functions_used.lr_score(X_train, y_train, X_validate, y_validate)"
   ]
  },
  {
   "cell_type": "markdown",
   "id": "9bf32355-64fe-47a8-b48d-6bdcd3d4ba45",
   "metadata": {},
   "source": [
    "> ### Logistic Regression result\n",
    ">> Best model: The model with features 3 has the accuracy score: 77% and validataion score: 77% "
   ]
  },
  {
   "cell_type": "markdown",
   "id": "2b5c1de0-da77-4842-89f9-a9152f17d2d6",
   "metadata": {},
   "source": [
    "> #### Comparing Models\n",
    "> * Decision Tree, Random Forest, and Logistic Regression models all performed above the baseline (73%)\n",
    ">> 1. Decision Tree\n",
    ">>> Model with max_depth: 2, with accuracy_score: 78% and validate_score: 79%\n",
    "\n",
    ">> 2. Random Forest\n",
    ">>> The model with min_leaf_samples = 1, max_depth = 10, have accuracy of 87% and validation: 81%\n",
    "\n",
    ">> 3. Logistic Regression\n",
    ">>> The model with features 3 has the accuracy score: 77% and validataion score: 77% "
   ]
  },
  {
   "cell_type": "markdown",
   "id": "27ba76f2-c3f4-4b59-8df7-5531357b91fa",
   "metadata": {},
   "source": [
    "> ### Modeling Summary\n",
    ">> * The best model according to the results is using Random Forest \n",
    ">> * Using min_leaf_sample = 1 and max_depth = 10, having an accuracy of 87% and validation of 81%"
   ]
  },
  {
   "cell_type": "code",
   "execution_count": 32,
   "id": "35117020-909c-4499-95df-f91d36ea3bde",
   "metadata": {
    "tags": []
   },
   "outputs": [
    {
     "data": {
      "text/plain": [
       "0.7998580553584103"
      ]
     },
     "execution_count": 32,
     "metadata": {},
     "output_type": "execute_result"
    }
   ],
   "source": [
    "# Testing the best model for score\n",
    "rf.score(X_test, y_test)"
   ]
  },
  {
   "cell_type": "markdown",
   "id": "2fad49e9-2d96-41f5-bb39-9ba50966d39a",
   "metadata": {},
   "source": [
    "> #### Running test on best model\n",
    ">> The accuracy scored: 80%"
   ]
  },
  {
   "cell_type": "markdown",
   "id": "4c274a8b-c7d8-445b-b3f0-df974f5a89e1",
   "metadata": {
    "tags": []
   },
   "source": [
    "# Conclusion\n",
    "> ### Exploration\n",
    ">> There are clear evidence that customers are churning because of monthly charges, payment type, contract type, paperless billing\n",
    "\n",
    "> ### Modeling\n",
    ">> Using 3 types of modeling and to select best one came up with an accuracy score of 80%. I can conclude that model is a good one to use\n",
    "\n",
    "> ### Recommendations\n",
    ">> The telecommunication company should look into the monthly charges increased and contract type first, since there is a big difference from customers that are churning. Also, payment type and paperless billing can both affect customers in churning. \n",
    "\n",
    "> ### Next Steps\n",
    ">> If there is another opportunity to look into the dataset, I would like to research other reasons within the dataset that may perhaps a reason why customers are churning. "
   ]
  },
  {
   "cell_type": "code",
   "execution_count": 36,
   "id": "d5d7f738-ebf5-4379-98c9-696a458f1b04",
   "metadata": {
    "tags": []
   },
   "outputs": [
    {
     "name": "stdout",
     "output_type": "stream",
     "text": [
      "this file exists, reading from csv file\n",
      "this file does not exist, export file into csv\n",
      "     customer_id  Probability of Churn  Prediction of Churn\n",
      "0     0002-ORFBO              0.144235                    0\n",
      "1     0003-MKNFE              0.734194                    1\n",
      "2     0004-TLHLJ              0.486443                    0\n",
      "3     0011-IGKFF              0.657547                    1\n",
      "4     0013-EXCHZ              0.086107                    0\n",
      "...          ...                   ...                  ...\n",
      "4220  5955-ERIHD              0.739226                    1\n",
      "4221  5956-VKDTT              0.044904                    0\n",
      "4222  5956-YHHRX              0.033292                    0\n",
      "4223  5959-BELXA              0.690626                    1\n",
      "4224  5960-MVTUK              0.410326                    0\n",
      "\n",
      "[4225 rows x 3 columns]\n"
     ]
    }
   ],
   "source": [
    "# Using a function to print Customer_id, Probability of Churn and Prediction of Churn\n",
    "functions_used.check_file_churn('churn_csv', y_pred, y_pred_proba)"
   ]
  }
 ],
 "metadata": {
  "kernelspec": {
   "display_name": "Python 3 (ipykernel)",
   "language": "python",
   "name": "python3"
  },
  "language_info": {
   "codemirror_mode": {
    "name": "ipython",
    "version": 3
   },
   "file_extension": ".py",
   "mimetype": "text/x-python",
   "name": "python",
   "nbconvert_exporter": "python",
   "pygments_lexer": "ipython3",
   "version": "3.11.5"
  }
 },
 "nbformat": 4,
 "nbformat_minor": 5
}
